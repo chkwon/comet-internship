{
 "cells": [
  {
   "cell_type": "markdown",
   "metadata": {},
   "source": [
    "# Algorithm"
   ]
  },
  {
   "cell_type": "code",
   "execution_count": 76,
   "metadata": {},
   "outputs": [
    {
     "data": {
      "text/plain": [
       "kp_dynamic_programming (generic function with 1 method)"
      ]
     },
     "execution_count": 76,
     "metadata": {},
     "output_type": "execute_result"
    }
   ],
   "source": [
    "function kp_dynamic_programming(weights, values, capacity)\n",
    "    n = length(weights)\n",
    "    \n",
    "    # Create a DP table to store the maximum value for each capacity\n",
    "    dp = fill(0, n+1, capacity+1)\n",
    "\n",
    "    # Fill the DP table\n",
    "    for i in 1:n\n",
    "        for w in 0:capacity\n",
    "            ###### Fill in the code here ######\n",
    "\n",
    "        end\n",
    "    end\n",
    "\n",
    "    # The maximum value is found at dp[n+1, capacity+1]\n",
    "    max_value = dp[n+1, capacity+1]\n",
    "\n",
    "    # To find the items included in the knapsack, we backtrack from dp[n+1, capacity+1]\n",
    "    w = capacity\n",
    "    solution = Int[]\n",
    "\n",
    "    for i in n:-1:1\n",
    "        println(\"Item: \", i, \" | Capacity: \", w, \" -> Value: \", dp[i+1, w+1])\n",
    "        ###### Fill in the code here ######\n",
    "        \n",
    "    end\n",
    "\n",
    "    return max_value, solution\n",
    "end\n"
   ]
  },
  {
   "cell_type": "markdown",
   "metadata": {},
   "source": [
    "# Experiment"
   ]
  },
  {
   "cell_type": "code",
   "execution_count": 89,
   "metadata": {},
   "outputs": [
    {
     "data": {
      "text/plain": [
       "run_kp_dp (generic function with 1 method)"
      ]
     },
     "execution_count": 89,
     "metadata": {},
     "output_type": "execute_result"
    }
   ],
   "source": [
    "function run_kp_dp(n; seed=1234)\n",
    "    Random.seed!(seed)\n",
    "    values = rand(1:100, n)\n",
    "    weights = rand(1:100, n)\n",
    "    capacity = 200\n",
    "    max_value, solution = kp_dynamic_programming(weights, values, capacity)\n",
    "    println(\"---------------------------------------\")\n",
    "    println(\"Maximum value in Knapsack = \", max_value)\n",
    "    println(\"Items in the Knapsack = \", solution)\n",
    "end\n"
   ]
  },
  {
   "cell_type": "code",
   "execution_count": 90,
   "metadata": {},
   "outputs": [
    {
     "name": "stdout",
     "output_type": "stream",
     "text": [
      "Item: 5 | Capacity: 200 -> Value: 178\n",
      "Item: 4 | Capacity: 200 -> Value: 178\n",
      "Item: 3 | Capacity: 150 -> Value: 88\n",
      "Item: 2 | Capacity: 150 -> Value: 88\n",
      "Item: 1 | Capacity: 54 -> Value: 33\n",
      "---------------------------------------\n",
      "Maximum value in Knapsack = 178\n",
      "Items in the Knapsack = [4, 2, 1]\n"
     ]
    }
   ],
   "source": [
    "run_kp_dp(5)"
   ]
  },
  {
   "cell_type": "code",
   "execution_count": 91,
   "metadata": {},
   "outputs": [
    {
     "name": "stdout",
     "output_type": "stream",
     "text": [
      "Item: 5 | Capacity: 200 -> Value: 253\n",
      "Item: 4 | Capacity: 125 -> Value: 163\n",
      "Item: 3 | Capacity: 49 -> Value: 127\n",
      "Item: 2 | Capacity: 49 -> Value: 127\n",
      "Item: 1 | Capacity: 26 -> Value: 97\n",
      "---------------------------------------\n",
      "Maximum value in Knapsack = 253\n",
      "Items in the Knapsack = [5, 4, 2, 1]\n"
     ]
    }
   ],
   "source": [
    "run_kp_dp(5; seed=1235)"
   ]
  },
  {
   "cell_type": "code",
   "execution_count": 92,
   "metadata": {},
   "outputs": [
    {
     "name": "stdout",
     "output_type": "stream",
     "text": [
      "Item: 10 | Capacity: 200 -> Value: 288\n",
      "Item: 9 | Capacity: 200 -> Value: 288\n",
      "Item: 8 | Capacity: 200 -> Value: 288\n",
      "Item: 7 | Capacity: 135 -> Value: 208\n",
      "Item: 6 | Capacity: 39 -> Value: 112\n",
      "Item: 5 | Capacity: 39 -> Value: 112\n",
      "Item: 4 | Capacity: 39 -> Value: 112\n",
      "Item: 3 | Capacity: 19 -> Value: 22\n",
      "Item: 2 | Capacity: 18 -> Value: 0\n",
      "Item: 1 | Capacity: 18 -> Value: 0\n",
      "---------------------------------------\n",
      "Maximum value in Knapsack = 288\n",
      "Items in the Knapsack = [8, 7, 4, 3]\n"
     ]
    }
   ],
   "source": [
    "run_kp_dp(10)"
   ]
  }
 ],
 "metadata": {
  "kernelspec": {
   "display_name": "Julia 1.9.3",
   "language": "julia",
   "name": "julia-1.9"
  },
  "language_info": {
   "file_extension": ".jl",
   "mimetype": "application/julia",
   "name": "julia",
   "version": "1.9.3"
  }
 },
 "nbformat": 4,
 "nbformat_minor": 2
}
