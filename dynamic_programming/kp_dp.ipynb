{
 "cells": [
  {
   "cell_type": "code",
   "execution_count": 7,
   "metadata": {},
   "outputs": [
    {
     "data": {
      "text/plain": [
       "200"
      ]
     },
     "execution_count": 7,
     "metadata": {},
     "output_type": "execute_result"
    }
   ],
   "source": [
    "import Random\n",
    "Random.seed!(0)\n",
    "\n",
    "n = 20\n",
    "values = rand(1:100, n)\n",
    "weights = rand(1:100, n)\n",
    "capacity = 200"
   ]
  },
  {
   "cell_type": "code",
   "execution_count": 8,
   "metadata": {},
   "outputs": [
    {
     "data": {
      "text/plain": [
       "kp_dynamic_programming (generic function with 1 method)"
      ]
     },
     "execution_count": 8,
     "metadata": {},
     "output_type": "execute_result"
    }
   ],
   "source": [
    "function kp_dynamic_programming(weights, values, capacity)\n",
    "    n = length(weights)\n",
    "    \n",
    "    # Create a DP table to store the maximum value for each capacity\n",
    "    dp = fill(0, n+1, capacity+1)\n",
    "\n",
    "    # Fill the DP table\n",
    "    for i in 1:n\n",
    "        for w in 0:capacity\n",
    "            if weights[i] <= w\n",
    "                dp[i+1, w+1] = max(dp[i, w+1], dp[i, w+1-weights[i]] + values[i])\n",
    "            else\n",
    "                dp[i+1, w+1] = dp[i, w+1]\n",
    "            end\n",
    "        end\n",
    "    end\n",
    "\n",
    "    # The maximum value is found at dp[n+1, capacity+1]\n",
    "    max_value = dp[n+1, capacity+1]\n",
    "\n",
    "    # To find the items included in the knapsack, we backtrack from dp[n+1, capacity+1]\n",
    "    w = capacity\n",
    "    solution = Int[]\n",
    "\n",
    "    for i in n:-1:1\n",
    "        if dp[i+1, w+1] != dp[i, w+1]\n",
    "            push!(solution, i)\n",
    "            w -= weights[i]\n",
    "        end\n",
    "    end\n",
    "\n",
    "    return max_value, solution\n",
    "end\n"
   ]
  },
  {
   "cell_type": "code",
   "execution_count": 23,
   "metadata": {},
   "outputs": [
    {
     "name": "stdout",
     "output_type": "stream",
     "text": [
      "Maximum value in Knapsack = 232\n",
      "Items in the Knapsack = [9, 7, 3, 1]\n",
      "  0.000200 seconds (205 allocations: 22.516 KiB)\n",
      "Maximum value in Knapsack = 658\n",
      "Items in the Knapsack = [17, 16, 15, 14, 12, 10, 5, 3, 2, 1]\n",
      "  0.000251 seconds (405 allocations: 43.148 KiB)\n",
      "Maximum value in Knapsack = 622\n",
      "Items in the Knapsack = [30, 27, 16, 13, 11, 10, 6, 4, 3, 2]\n",
      "  0.000146 seconds (406 allocations: 59.289 KiB)\n",
      "Maximum value in Knapsack = 19898\n",
      "Items in the Knapsack = [991678, 983549, 983178, 969228, 963014, 961250, 959998, 951149, 937173, 934983, 926556, 918863, 915426, 915395, 904891, 902809, 901691, 896373, 884400, 883040, 882471, 867842, 865371, 865035, 859439, 859211, 858636, 832589, 825132, 824512, 822127, 814584, 813892, 813290, 813019, 805881, 799850, 799737, 796833, 788437, 784515, 775746, 774014, 766485, 766091, 754325, 748494, 737474, 733109, 730848, 728288, 722995, 719438, 717232, 711949, 704613, 699034, 697046, 688926, 686597, 677008, 671094, 662324, 650240, 647602, 644557, 631463, 621257, 621188, 619733, 615805, 609522, 598980, 589941, 587036, 583460, 579149, 572282, 559197, 543722, 539519, 519326, 518242, 507633, 507085, 492321, 487819, 479671, 473479, 471218, 467580, 463153, 458952, 457050, 456122, 426365, 422845, 416572, 415908, 415392, 404667, 404043, 403333, 402969, 392381, 391519, 388816, 371507, 366423, 365407, 361721, 359577, 357034, 352906, 346703, 346237, 345990, 336554, 334967, 332721, 310564, 309608, 302195, 300969, 300755, 290579, 288188, 283027, 274247, 272604, 269472, 268921, 267321, 263057, 260967, 247706, 247690, 245072, 244609, 239926, 239579, 231644, 228513, 223640, 217347, 213660, 213259, 211359, 208877, 207923, 203533, 197091, 197057, 196958, 191356, 188508, 186763, 183810, 174811, 170800, 167483, 164052, 160126, 154906, 154196, 151860, 144909, 138434, 136375, 127065, 117699, 117591, 115693, 106071, 103305, 83419, 78805, 75980, 70258, 69328, 68278, 65447, 64436, 60623, 55535, 51764, 32833, 28868, 27584, 27192, 26921, 26135, 25993, 22142, 22001, 16290, 5193, 4428, 1179, 1139]\n",
      "  0.992942 seconds (6.84 k allocations: 1.513 GiB, 0.84% gc time)\n"
     ]
    }
   ],
   "source": [
    "function run_kp_dp(n)\n",
    "    values = rand(1:100, n)\n",
    "    weights = rand(1:100, n)\n",
    "    capacity = 200\n",
    "    max_value, solution = kp_dynamic_programming(weights, values, capacity)\n",
    "    println(\"Maximum value in Knapsack = \", max_value)\n",
    "    println(\"Items in the Knapsack = \", solution)\n",
    "end\n",
    "\n",
    "@time run_kp_dp(10)\n",
    "@time run_kp_dp(20)\n",
    "@time run_kp_dp(30)\n",
    "@time run_kp_dp(1000000)\n"
   ]
  },
  {
   "cell_type": "code",
   "execution_count": null,
   "metadata": {},
   "outputs": [],
   "source": []
  }
 ],
 "metadata": {
  "kernelspec": {
   "display_name": "Julia 1.9.3",
   "language": "julia",
   "name": "julia-1.9"
  },
  "language_info": {
   "file_extension": ".jl",
   "mimetype": "application/julia",
   "name": "julia",
   "version": "1.9.3"
  }
 },
 "nbformat": 4,
 "nbformat_minor": 2
}
