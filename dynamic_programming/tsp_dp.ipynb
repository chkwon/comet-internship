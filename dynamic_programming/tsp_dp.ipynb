{
 "cells": [
  {
   "cell_type": "markdown",
   "metadata": {},
   "source": [
    "# Problem"
   ]
  },
  {
   "cell_type": "code",
   "execution_count": 59,
   "metadata": {},
   "outputs": [
    {
     "data": {
      "text/plain": [
       "generate_distance_matrix (generic function with 2 methods)"
      ]
     },
     "execution_count": 59,
     "metadata": {},
     "output_type": "execute_result"
    }
   ],
   "source": [
    "function generate_distance_matrix(n; random_seed = seed)\n",
    "    rng = Random.MersenneTwister(random_seed)\n",
    "    X = 100 * rand(rng, n) # x 좌표\n",
    "    Y = 100 * rand(rng, n) # y 좌표\n",
    "    d = [sqrt((X[i] - X[j])^2 + (Y[i] - Y[j])^2) for i in 1:n, j in 1:n] #distance\n",
    "    return X, Y, d\n",
    "end"
   ]
  },
  {
   "cell_type": "markdown",
   "metadata": {},
   "source": [
    "# Algorithm"
   ]
  },
  {
   "cell_type": "code",
   "execution_count": 60,
   "metadata": {},
   "outputs": [
    {
     "data": {
      "text/plain": [
       "tsp_dynamic_programming (generic function with 1 method)"
      ]
     },
     "execution_count": 60,
     "metadata": {},
     "output_type": "execute_result"
    }
   ],
   "source": [
    "using Random\n",
    "\n",
    "function tsp_dynamic_programming(distance_matrix)\n",
    "    n = size(distance_matrix, 1)\n",
    "    num_states = 2^n\n",
    "    dp = fill(Inf, n, num_states)\n",
    "\n",
    "    # Initialize the base case\n",
    "    dp[1, 1] = 0\n",
    "\n",
    "    # Calculate the minimum distance for each state\n",
    "    for mask in 1:num_states\n",
    "        for u in 2:n\n",
    "            if (mask & (1 << (u - 1))) != 0\n",
    "                for v in 1:n\n",
    "                    ###### Fill in the code here ######\n",
    "                    \n",
    "                end\n",
    "            end\n",
    "        end\n",
    "    end\n",
    "\n",
    "\n",
    "    # Calculate the minimum tour length\n",
    "    tour_length = Inf\n",
    "    for u in 2:n\n",
    "        println(\"Current u: \", u)\n",
    "        print(\"Current tour_length: \", round(tour_length, digits=4))\n",
    "        ###### Fill in the code here ######\n",
    "        \n",
    "    end\n",
    "\n",
    "    return tour_length\n",
    "end\n"
   ]
  },
  {
   "cell_type": "markdown",
   "metadata": {},
   "source": [
    "# Experiment"
   ]
  },
  {
   "cell_type": "code",
   "execution_count": 69,
   "metadata": {},
   "outputs": [
    {
     "data": {
      "text/plain": [
       "run_tsp_dp (generic function with 1 method)"
      ]
     },
     "execution_count": 69,
     "metadata": {},
     "output_type": "execute_result"
    }
   ],
   "source": [
    "using Concorde\n",
    "\n",
    "function run_tsp_dp(n; seed = 1234)\n",
    "    X, Y, d = generate_distance_matrix(n; random_seed = seed)\n",
    "    tour_length = tsp_dynamic_programming(d)\n",
    "    println(\"----------------------------------------------------\")\n",
    "    println(\"Minimum tour length for $n cities: \", tour_length)\n",
    "end\n"
   ]
  },
  {
   "cell_type": "code",
   "execution_count": 70,
   "metadata": {},
   "outputs": [
    {
     "name": "stdout",
     "output_type": "stream",
     "text": [
      "Current u: 2\n",
      "Current tour_length: Inf vs 302.3404\n",
      "Current u: 3\n",
      "Current tour_length: 302.3404 vs 314.7005\n",
      "Current u: 4\n",
      "Current tour_length: 302.3404 vs 285.4396\n",
      "Current u: 5\n",
      "Current tour_length: 285.4396 vs 271.9402\n",
      "Current u: 6\n",
      "Current tour_length: 271.9402 vs 287.5675\n",
      "Current u: 7\n",
      "Current tour_length: 271.9402 vs 305.6292\n",
      "Current u: 8\n",
      "Current tour_length: 271.9402 vs 289.4072\n",
      "Current u: 9\n",
      "Current tour_length: 271.9402 vs 330.336\n",
      "Current u: 10\n",
      "Current tour_length: 271.9402 vs 271.9402\n",
      "----------------------------------------------------\n",
      "Minimum tour length for 10 cities: 271.94015912296027\n"
     ]
    }
   ],
   "source": [
    "run_tsp_dp(10)"
   ]
  },
  {
   "cell_type": "code",
   "execution_count": 71,
   "metadata": {},
   "outputs": [
    {
     "name": "stdout",
     "output_type": "stream",
     "text": [
      "Current u: 2\n",
      "Current tour_length: Inf vs 289.3781\n",
      "Current u: 3\n",
      "Current tour_length: 289.3781 vs 307.5528\n",
      "Current u: 4\n",
      "Current tour_length: 289.3781 vs 334.9734\n",
      "Current u: 5\n",
      "Current tour_length: 289.3781 vs 289.3781\n",
      "Current u: 6\n",
      "Current tour_length: 289.3781 vs 318.6574\n",
      "Current u: 7\n",
      "Current tour_length: 289.3781 vs 330.2518\n",
      "Current u: 8\n",
      "Current tour_length: 289.3781 vs 333.7976\n",
      "Current u: 9\n",
      "Current tour_length: 289.3781 vs 303.2786\n",
      "Current u: 10\n",
      "Current tour_length: 289.3781 vs 293.8271\n",
      "----------------------------------------------------\n",
      "Minimum tour length for 10 cities: 289.3780898449664\n"
     ]
    }
   ],
   "source": [
    "run_tsp_dp(10; seed=0)"
   ]
  }
 ],
 "metadata": {
  "kernelspec": {
   "display_name": "Julia 1.9.3",
   "language": "julia",
   "name": "julia-1.9"
  },
  "language_info": {
   "file_extension": ".jl",
   "mimetype": "application/julia",
   "name": "julia",
   "version": "1.9.3"
  }
 },
 "nbformat": 4,
 "nbformat_minor": 2
}
