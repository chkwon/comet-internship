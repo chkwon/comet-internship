{
 "cells": [
  {
   "cell_type": "code",
   "execution_count": 1,
   "metadata": {},
   "outputs": [
    {
     "data": {
      "text/plain": [
       "generate_distance_matrix (generic function with 1 method)"
      ]
     },
     "execution_count": 1,
     "metadata": {},
     "output_type": "execute_result"
    }
   ],
   "source": [
    "function generate_distance_matrix(n; random_seed = 1)\n",
    "    rng = Random.MersenneTwister(random_seed)\n",
    "    X = 100 * rand(rng, n) # x 좌표\n",
    "    Y = 100 * rand(rng, n) # y 좌표\n",
    "    d = [sqrt((X[i] - X[j])^2 + (Y[i] - Y[j])^2) for i in 1:n, j in 1:n] #distance\n",
    "    return X, Y, d\n",
    "end"
   ]
  },
  {
   "cell_type": "code",
   "execution_count": 2,
   "metadata": {},
   "outputs": [
    {
     "data": {
      "text/plain": [
       "tsp_dynamic_programming (generic function with 1 method)"
      ]
     },
     "execution_count": 2,
     "metadata": {},
     "output_type": "execute_result"
    }
   ],
   "source": [
    "using Random\n",
    "\n",
    "function tsp_dynamic_programming(distance_matrix)\n",
    "    n = size(distance_matrix, 1)\n",
    "    num_states = 2^n\n",
    "    dp = fill(Inf, n, num_states)\n",
    "\n",
    "    # Initialize the base case\n",
    "    dp[1, 1] = 0\n",
    "\n",
    "    # Calculate the minimum distance for each state\n",
    "    for mask in 1:num_states\n",
    "        for u in 2:n\n",
    "            if (mask & (1 << (u - 1))) != 0\n",
    "                for v in 1:n\n",
    "                    if v != u && (mask & (1 << (v - 1))) != 0\n",
    "                        dp[u, mask] = min(dp[u, mask], dp[v, mask - (1 << (u - 1))] + distance_matrix[v, u])\n",
    "                    end\n",
    "                end\n",
    "            end\n",
    "        end\n",
    "    end\n",
    "\n",
    "    # Calculate the minimum tour length\n",
    "    tour_length = Inf\n",
    "    for u in 2:n\n",
    "        tour_length = min(tour_length, dp[u, num_states - 1] + distance_matrix[u, 1])\n",
    "    end\n",
    "\n",
    "    return tour_length\n",
    "end\n"
   ]
  },
  {
   "cell_type": "code",
   "execution_count": 3,
   "metadata": {},
   "outputs": [
    {
     "name": "stdout",
     "output_type": "stream",
     "text": [
      "Minimum tour length for 10 cities:343.9827302865762\n",
      "  0.035165 seconds (40.24 k allocations: 3.104 MiB, 98.77% compilation time)\n",
      "Minimum tour length for 20 cities:416.41072250791916\n",
      "  0.663935 seconds (187 allocations: 160.036 MiB, 1.07% gc time)\n"
     ]
    }
   ],
   "source": [
    "function run_tsp_dp(n)\n",
    "    X, Y, d = generate_distance_matrix(n)\n",
    "    tour_length = tsp_dynamic_programming(d)\n",
    "    println(\"Minimum tour length for $n cities:\", tour_length)\n",
    "end\n",
    "\n",
    "@time run_tsp_dp(10)\n",
    "@time run_tsp_dp(20)\n",
    "#@time run_tsp_dp(30) # This will generate an OutOfMemoryError."
   ]
  }
 ],
 "metadata": {
  "kernelspec": {
   "display_name": "Julia 1.9.3",
   "language": "julia",
   "name": "julia-1.9"
  },
  "language_info": {
   "file_extension": ".jl",
   "mimetype": "application/julia",
   "name": "julia",
   "version": "1.9.3"
  }
 },
 "nbformat": 4,
 "nbformat_minor": 2
}
