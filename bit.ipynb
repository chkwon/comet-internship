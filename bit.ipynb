{
 "cells": [
  {
   "cell_type": "markdown",
   "metadata": {},
   "source": [
    "# Bit Manipulation in Julia\n",
    "\n",
    "In this notebook, we will explore different methods for representing a `visited` array and performing operations on them in Julia. We will use the `Vector{Int}`, and `BitMasking` types for our `visited` array.\n",
    "\n",
    "We use a vector of `UInt32`. Each UInt32 can represent 32 bits, hence 32 nodes. When there are more than 32 nodes, we need more than one `UInt32` numbers."
   ]
  },
  {
   "cell_type": "code",
   "execution_count": 1,
   "metadata": {},
   "outputs": [
    {
     "data": {
      "text/plain": [
       "Vector{UInt32}\u001b[90m (alias for \u001b[39m\u001b[90mArray{UInt32, 1}\u001b[39m\u001b[90m)\u001b[39m"
      ]
     },
     "execution_count": 1,
     "metadata": {},
     "output_type": "execute_result"
    }
   ],
   "source": [
    "const BitMasking = Vector{UInt32} # alias for bit masking"
   ]
  },
  {
   "cell_type": "markdown",
   "metadata": {},
   "source": [
    "## Basic Bit Manipulations"
   ]
  },
  {
   "cell_type": "code",
   "execution_count": 2,
   "metadata": {},
   "outputs": [
    {
     "name": "stdout",
     "output_type": "stream",
     "text": [
      "v           = 00000000000000000000000000000000\n",
      "bitmask     = 00000000000000000000000000000001\n",
      "v | bitmask = 00000000000000000000000000000001\n"
     ]
    }
   ],
   "source": [
    "n_nodes = 25\n",
    "v = UInt32(0) # Since n_nodes < 32, we need only one `UInt32` to represent the bit mask\n",
    "\n",
    "# We visit the node number 1\n",
    "node = 1\n",
    "bitmask = UInt32(1) << (node - 1) # left shift: 1 << (node - 1) is equivalent to 2^(node - 1) \n",
    "\n",
    "println(\"v           = \", bitstring(v))\n",
    "println(\"bitmask     = \", bitstring(bitmask))\n",
    "v = v | bitmask # bitwise OR\n",
    "println(\"v | bitmask = \", bitstring(v))\n"
   ]
  },
  {
   "cell_type": "code",
   "execution_count": 8,
   "metadata": {},
   "outputs": [
    {
     "name": "stdout",
     "output_type": "stream",
     "text": [
      "v           = 00000000000000000000000000010001\n",
      "bitmask     = 00000000000000000000000000010000\n",
      "v | bitmask = 00000000000000000000000000010001\n"
     ]
    },
    {
     "data": {
      "text/plain": [
       "2"
      ]
     },
     "execution_count": 8,
     "metadata": {},
     "output_type": "execute_result"
    }
   ],
   "source": [
    "# We visit the node number 5\n",
    "node = 5\n",
    "bitmask = UInt32(1) << (node - 1) # left shift: 1 << (node - 1) is equivalent to 2^(node - 1) \n",
    "\n",
    "println(\"v           = \", bitstring(v))\n",
    "println(\"bitmask     = \", bitstring(bitmask))\n",
    "v = v | bitmask # bitwise OR\n",
    "println(\"v | bitmask = \", bitstring(v))"
   ]
  },
  {
   "cell_type": "code",
   "execution_count": 5,
   "metadata": {},
   "outputs": [
    {
     "name": "stdout",
     "output_type": "stream",
     "text": [
      "v           = 00000000000000000000000000010001\n",
      "bitmask     = 00000000000000000000000000000001\n",
      "v & bitmask = 00000000000000000000000000000001\n"
     ]
    },
    {
     "data": {
      "text/plain": [
       "true"
      ]
     },
     "execution_count": 5,
     "metadata": {},
     "output_type": "execute_result"
    }
   ],
   "source": [
    "# Check if the node number 1 is visited\n",
    "node = 1\n",
    "bitmask = UInt32(1) << (node - 1) \n",
    "\n",
    "println(\"v           = \", bitstring(v))\n",
    "println(\"bitmask     = \", bitstring(bitmask))\n",
    "println(\"v & bitmask = \", bitstring(v & bitmask)) # bitwise AND\n",
    "\n",
    "isvisited1 = (v & bitmask) != 0\n"
   ]
  },
  {
   "cell_type": "code",
   "execution_count": 6,
   "metadata": {},
   "outputs": [
    {
     "name": "stdout",
     "output_type": "stream",
     "text": [
      "v           = 00000000000000000000000000010001\n",
      "bitmask     = 00000000000000000000001000000000\n",
      "v & bitmask = 00000000000000000000000000000000\n"
     ]
    },
    {
     "data": {
      "text/plain": [
       "false"
      ]
     },
     "execution_count": 6,
     "metadata": {},
     "output_type": "execute_result"
    }
   ],
   "source": [
    "# Check if the node number 10 is visited\n",
    "node = 10\n",
    "bitmask = UInt32(1) << (node - 1) \n",
    "\n",
    "println(\"v           = \", bitstring(v))\n",
    "println(\"bitmask     = \", bitstring(bitmask))\n",
    "println(\"v & bitmask = \", bitstring(v & bitmask)) # bitwise AND\n",
    "\n",
    "isvisited1 = (v & bitmask) != 0\n"
   ]
  },
  {
   "cell_type": "markdown",
   "metadata": {},
   "source": [
    "## `isvisited` function\n",
    "\n",
    "The `isvisited` function checks if a node has been visited. It takes a `visited` array and a `node` as input and returns `true` if the node has been visited and `false` otherwise.\n",
    "\n",
    "Here's how it works for different types of `visited` arrays:\n"
   ]
  },
  {
   "cell_type": "code",
   "execution_count": 7,
   "metadata": {},
   "outputs": [
    {
     "data": {
      "text/plain": [
       "isvisited (generic function with 2 methods)"
      ]
     },
     "execution_count": 7,
     "metadata": {},
     "output_type": "execute_result"
    }
   ],
   "source": [
    "function isvisited(visited::BitMasking, node::Int)\n",
    "    index = (node - 1) ÷ 32 + 1\n",
    "    bit = (node - 1) % 32 + 1\n",
    "    bitmask = UInt32(1) << (bit - 1)\n",
    "    return (visited[index] & bitmask) != 0\n",
    "end\n",
    "\n",
    "function isvisited(visited::Vector{Int}, node::Int)\n",
    "    return visited[node] != 0\n",
    "end\n"
   ]
  },
  {
   "cell_type": "markdown",
   "metadata": {},
   "source": [
    "## `markvisited!` function\n",
    "\n",
    "The `markvisited!` function marks a node as visited. It takes a `visited` array and a `node` as input and sets the corresponding element in the `visited` array to `true` or `1`.\n",
    "\n",
    "Here's how it works for different types of `visited` arrays:\n"
   ]
  },
  {
   "cell_type": "code",
   "execution_count": 8,
   "metadata": {},
   "outputs": [
    {
     "data": {
      "text/plain": [
       "markvisited! (generic function with 2 methods)"
      ]
     },
     "execution_count": 8,
     "metadata": {},
     "output_type": "execute_result"
    }
   ],
   "source": [
    "function markvisited!(visited::BitMasking, node::Int)\n",
    "    index = (node - 1) ÷ 32 + 1\n",
    "    bit = (node - 1) % 32 + 1\n",
    "    visited[index] |= (UInt32(1) << (bit - 1))\n",
    "end\n",
    "\n",
    "function markvisited!(visited::Vector{Int}, node::Int)\n",
    "    visited[node] = 1\n",
    "end"
   ]
  },
  {
   "cell_type": "markdown",
   "metadata": {},
   "source": [
    "## `isdominating` function\n",
    "\n",
    "The `isdominating` function checks the dominance rule. It returns false if we cannot conclude that `v1` dominates `v2`, i.e. there exists an `i` such that `v1[i] > v2[i]`. It returns true if `v1` dominates `v2`, i.e., `v1[i] <= v2[i]` for all `i`."
   ]
  },
  {
   "cell_type": "code",
   "execution_count": 9,
   "metadata": {},
   "outputs": [
    {
     "data": {
      "text/plain": [
       "isdominating (generic function with 2 methods)"
      ]
     },
     "execution_count": 9,
     "metadata": {},
     "output_type": "execute_result"
    }
   ],
   "source": [
    "# Return false if there exists an i such that v1[i] > v2[i]\n",
    "# Return true if v1 dominates v2, i.e., v1[i] <= v2[i] for all i\n",
    "function isdominating(v1::BitMasking, v2::BitMasking)\n",
    "    for mask_idx in eachindex(v1)\n",
    "        if (v1[mask_idx] & v2[mask_idx]) != v1[mask_idx]\n",
    "            return false\n",
    "        end\n",
    "    end\n",
    "    return true\n",
    "end\n",
    "\n",
    "isdominating(v1::Vector{Int}, v2::Vector{Int}) = !any(v1 .> v2)\n"
   ]
  },
  {
   "cell_type": "markdown",
   "metadata": {},
   "source": [
    "To see how `isdominating()` function works for `BitMasking`, see the example below."
   ]
  },
  {
   "cell_type": "code",
   "execution_count": 10,
   "metadata": {},
   "outputs": [
    {
     "name": "stdout",
     "output_type": "stream",
     "text": [
      "v1      = 00000000000000000000000000001101\n",
      "v2      = 00000000000000000000000000001111\n",
      "v1 & v2 = 00000000000000000000000000001101\n",
      "v1 is a subset of v2, i.e. v1[i] <= v2[i] ∀ i\n"
     ]
    }
   ],
   "source": [
    "v1 = UInt32(13) # visited nodes: 1, 3, 4\n",
    "v2 = UInt32(15) # visited nodes: 1, 2, 3, 4\n",
    "println(\"v1      = \", bitstring(v1))\n",
    "println(\"v2      = \", bitstring(v2))\n",
    "println(\"v1 & v2 = \", bitstring(v1 & v2)) #bitwise AND, representing the nodes visited by both v1 and v2\n",
    "\n",
    "if v1 & v2 == v1\n",
    "    println(\"v1 is a subset of v2, i.e. v1[i] <= v2[i] ∀ i\")\n",
    "else \n",
    "    println(\"v1 is not a subset of v2, i.e. v1[i] > v2[i] for some i\")\n",
    "end"
   ]
  },
  {
   "cell_type": "markdown",
   "metadata": {},
   "source": [
    "## Tests"
   ]
  },
  {
   "cell_type": "code",
   "execution_count": 18,
   "metadata": {},
   "outputs": [],
   "source": [
    "using BenchmarkTools"
   ]
  },
  {
   "cell_type": "code",
   "execution_count": 19,
   "metadata": {},
   "outputs": [
    {
     "name": "stdout",
     "output_type": "stream",
     "text": [
      "---------------------------------------------------------------\n",
      "Comparing the initialization operation\n",
      "BitMsking:  17.618 ns (1 allocation: 128 bytes)\n",
      "IntVector:  194.400 ns (1 allocation: 4.06 KiB)\n",
      "---------------------------------------------------------------\n",
      "Comparing the update operation: markvisited!(visited, i)\n",
      "BitMsking:  3.155 ns (0 allocations: 0 bytes)\n",
      "IntVector:  2.113 ns (0 allocations: 0 bytes)\n",
      "---------------------------------------------------------------\n",
      "Comparing the check-if-visited operation: isvisited(visited, i)\n",
      "BitMsking:  2.524 ns (0 allocations: 0 bytes)\n",
      "IntVector:  1.853 ns (0 allocations: 0 bytes)\n",
      "---------------------------------------------------------------\n"
     ]
    }
   ],
   "source": [
    "n_nodes = 500\n",
    "\n",
    "idx = rand(1:n_nodes)\n",
    "\n",
    "visited_bitmask = zeros(UInt32, (n_nodes + 31) ÷ 32) # Number of integers needed for the bitmask\n",
    "visited_intvector = zeros(Int, n_nodes)\n",
    "\n",
    "println(\"---------------------------------------------------------------\")\n",
    "println(\"Comparing the initialization operation\")\n",
    "print(\"BitMsking:\"); @btime visited_bitmask = zeros(UInt32, ($n_nodes + 31) ÷ 32) # Number of integers needed for the bitmask\n",
    "print(\"IntVector:\"); @btime visited_intvector = zeros(Int, $n_nodes)\n",
    "\n",
    "println(\"---------------------------------------------------------------\")\n",
    "println(\"Comparing the update operation: markvisited!(visited, i)\")\n",
    "print(\"BitMsking:\"); @btime markvisited!($visited_bitmask, $idx)\n",
    "print(\"IntVector:\"); @btime markvisited!($visited_intvector, $idx)\n",
    "\n",
    "println(\"---------------------------------------------------------------\")\n",
    "println(\"Comparing the check-if-visited operation: isvisited(visited, i)\")\n",
    "print(\"BitMsking:\"); @btime isvisited($visited_bitmask, $idx)\n",
    "print(\"IntVector:\"); @btime isvisited($visited_intvector, $idx)    \n",
    "println(\"---------------------------------------------------------------\")"
   ]
  },
  {
   "cell_type": "markdown",
   "metadata": {},
   "source": [
    "`BitMasking` is the slowest for `markvisited!()` and `isvisited()`.\n",
    "\n",
    "Let's see how `isdominating()` does."
   ]
  },
  {
   "cell_type": "code",
   "execution_count": 20,
   "metadata": {},
   "outputs": [],
   "source": [
    "# Prepare for comparison\n",
    "\n",
    "# Bitmasking\n",
    "num_ints = (n_nodes + 31) ÷ 32\n",
    "visited1_bitmasking = zeros(UInt32, num_ints)\n",
    "visited2_bitmasking = zeros(UInt32, num_ints)\n",
    "visited3_bitmasking = zeros(UInt32, num_ints)\n",
    "\n",
    "# Intvector\n",
    "visited1_intvector = zeros(Int, n_nodes)\n",
    "visited2_intvector = zeros(Int, n_nodes)\n",
    "visited3_intvector = zeros(Int, n_nodes)\n",
    "\n",
    "# Mark some nodes as visited \n",
    "set_nodes = unique(rand(1:n_nodes, round(Int, n_nodes / 2)))\n",
    "for node in set_nodes\n",
    "    markvisited!(visited1_bitmasking, node)\n",
    "    markvisited!(visited2_bitmasking, node)\n",
    "\n",
    "    markvisited!(visited1_intvector, node)\n",
    "    markvisited!(visited2_intvector, node)\n",
    "end\n",
    "\n",
    "# Mark some nodes as visited only in the second set\n",
    "# so that the first set is a subset of the second set\n",
    "for i in 1:n_nodes/10\n",
    "    node = rand(1:n_nodes)\n",
    "    markvisited!(visited2_bitmasking, node)\n",
    "    markvisited!(visited2_intvector, node)\n",
    "end\n",
    "# Mark some other nodes as visited only in the third set \n",
    "# so that the third set is not a subset of the second set\n",
    "for i in 1:n_nodes/10\n",
    "    node = rand(1:n_nodes)\n",
    "    markvisited!(visited3_bitmasking, node)\n",
    "    markvisited!(visited3_intvector, node)\n",
    "end\n",
    "\n",
    "\n"
   ]
  },
  {
   "cell_type": "code",
   "execution_count": 21,
   "metadata": {},
   "outputs": [
    {
     "name": "stdout",
     "output_type": "stream",
     "text": [
      "[[ When visited1 is a subset of visited2 ]]\n",
      "Comparing the dominance check operation\n",
      "BitMsking :  8.635 ns (0 allocations: 0 bytes)\n",
      "IntVector :  313.877 ns (3 allocations: 4.34 KiB)\n"
     ]
    }
   ],
   "source": [
    "println(\"[[ When visited1 is a subset of visited2 ]]\")\n",
    "println(\"Comparing the dominance check operation\")\n",
    "print(\"BitMsking :\"); @btime isdominating($visited1_bitmasking, $visited2_bitmasking);\n",
    "print(\"IntVector :\"); @btime isdominating($visited1_intvector, $visited2_intvector);"
   ]
  },
  {
   "cell_type": "code",
   "execution_count": 22,
   "metadata": {},
   "outputs": [
    {
     "name": "stdout",
     "output_type": "stream",
     "text": [
      "[[ When visited1 is not a subset of visited2 ]]\n",
      "BitMsking :  2.695 ns (0 allocations: 0 bytes)\n",
      "IntVector :  359.210 ns (3 allocations: 4.34 KiB)\n"
     ]
    }
   ],
   "source": [
    "println(\"[[ When visited1 is not a subset of visited2 ]]\")\n",
    "print(\"BitMsking :\"); @btime isdominating($visited3_bitmasking, $visited2_bitmasking);\n",
    "print(\"IntVector :\"); @btime isdominating($visited3_intvector, $visited2_intvector);"
   ]
  },
  {
   "cell_type": "code",
   "execution_count": null,
   "metadata": {},
   "outputs": [],
   "source": []
  }
 ],
 "metadata": {
  "kernelspec": {
   "display_name": "Julia 1.9.3",
   "language": "julia",
   "name": "julia-1.9"
  },
  "language_info": {
   "file_extension": ".jl",
   "mimetype": "application/julia",
   "name": "julia",
   "version": "1.9.3"
  }
 },
 "nbformat": 4,
 "nbformat_minor": 2
}
