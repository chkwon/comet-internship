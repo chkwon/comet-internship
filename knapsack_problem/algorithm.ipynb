{
 "cells": [
  {
   "cell_type": "markdown",
   "metadata": {},
   "source": [
    "# Algorithm"
   ]
  },
  {
   "cell_type": "code",
   "execution_count": 58,
   "metadata": {},
   "outputs": [
    {
     "data": {
      "text/plain": [
       "kp_gurobi (generic function with 2 methods)"
      ]
     },
     "execution_count": 58,
     "metadata": {},
     "output_type": "execute_result"
    }
   ],
   "source": [
    "using JuMP, Gurobi\n",
    "\n",
    "# Gurobi\n",
    "function kp_gurobi(values::Vector{Int}, weights::Vector{Int}, capacity::Int)\n",
    "    num_items = length(weights)\n",
    "    num_bins = length(weights)\n",
    "\n",
    "    model = Model(optimizer_with_attributes(\n",
    "        Gurobi.Optimizer,\n",
    "        # \"MIPGap\" => 1e-4, # default\n",
    "        \"OutputFlag\" =>0\n",
    "    ))\n",
    "\n",
    "    @variable(model, x[1:num_items], Bin)\n",
    "    @objective(model, Max, sum(values[j] * x[j] for j in 1:num_items))\n",
    "    @constraint(model, sum(weights[j] * x[j] for j in 1:num_items) <= capacity)\n",
    "\n",
    "    optimize!(model)\n",
    "    println(\"Objective value of Gurobi: \", objective_value(model))\n",
    "\n",
    "    sol = Int64[]\n",
    "    for (index, binary_val) in enumerate(value.(x))\n",
    "        if binary_val == 1\n",
    "            push!(sol, index)\n",
    "        end\n",
    "    end\n",
    "\n",
    "    return objective_value(model), sol\n",
    "end"
   ]
  },
  {
   "cell_type": "code",
   "execution_count": 59,
   "metadata": {},
   "outputs": [
    {
     "data": {
      "text/plain": [
       "kp_expandingcore (generic function with 2 methods)"
      ]
     },
     "execution_count": 59,
     "metadata": {},
     "output_type": "execute_result"
    }
   ],
   "source": [
    "using Knapsacks\n",
    "\n",
    "function kp_expandingcore(values::Vector{Int}, weights::Vector{Int}, capacity::Int)\n",
    "    data = Knapsack(capacity, weights, values)\n",
    "\n",
    "    opt, sol = solveKnapsack(data, :ExpandingCore)\n",
    "\n",
    "    println(\"Objective value of Expandingcore: \", opt)\n",
    "    return opt, sol\n",
    "end"
   ]
  },
  {
   "cell_type": "code",
   "execution_count": 60,
   "metadata": {},
   "outputs": [
    {
     "data": {
      "text/plain": [
       "kp_bruteforce (generic function with 1 method)"
      ]
     },
     "execution_count": 60,
     "metadata": {},
     "output_type": "execute_result"
    }
   ],
   "source": [
    "function kp_bruteforce(weights, values, capacity)\n",
    "    n = length(weights)\n",
    "    max_value = 0\n",
    "    best_sol = Int64[]\n",
    "\n",
    "    # Iterate over all possible combinations (2^n)\n",
    "    for i in 0:(2^n - 1)\n",
    "        total_weight = 0\n",
    "        total_value = 0\n",
    "        current_sol = Int64[]\n",
    "        \n",
    "        for j in 1:n\n",
    "            if (i & (1 << (j - 1))) != 0 # bit masking\n",
    "                total_weight += weights[j]\n",
    "                total_value += values[j]\n",
    "                push!(current_sol, j)\n",
    "            end\n",
    "        end\n",
    "        \n",
    "        if total_weight <= capacity && total_value > max_value\n",
    "            max_value = total_value\n",
    "            best_sol = current_sol\n",
    "        end\n",
    "    end\n",
    "\n",
    "    println(\"Objective value of Bruteforce: \", max_value)\n",
    "    \n",
    "    return max_value, best_sol\n",
    "end\n"
   ]
  },
  {
   "cell_type": "code",
   "execution_count": 128,
   "metadata": {},
   "outputs": [
    {
     "data": {
      "text/plain": [
       "kp_greedy (generic function with 1 method)"
      ]
     },
     "execution_count": 128,
     "metadata": {},
     "output_type": "execute_result"
    }
   ],
   "source": [
    "function kp_greedy(weights, values, capacity)\n",
    "    n = length(weights)\n",
    "    items = [(values[i] / weights[i], i) for i in 1:n]\n",
    "    \n",
    "    sort!(items, by = x -> -x[1])\n",
    "    #println(items)\n",
    "    \n",
    "    total_weight = 0\n",
    "    total_value = 0\n",
    "    solution = Int64[]\n",
    "    \n",
    "    for (_, i) in items\n",
    "        if total_weight + weights[i] <= capacity\n",
    "            total_weight += weights[i]\n",
    "            total_value += values[i]\n",
    "            push!(solution, i)\n",
    "        end\n",
    "    end\n",
    "    \n",
    "    println(\"Objective value of Greedy: \", total_value)\n",
    "    \n",
    "    return total_value, solution\n",
    "end"
   ]
  },
  {
   "cell_type": "markdown",
   "metadata": {},
   "source": [
    "# Problem"
   ]
  },
  {
   "cell_type": "markdown",
   "metadata": {},
   "source": [
    "### n = 6 "
   ]
  },
  {
   "cell_type": "code",
   "execution_count": 174,
   "metadata": {},
   "outputs": [
    {
     "name": "stdout",
     "output_type": "stream",
     "text": [
      "Values: [1, 7, 8, 9, 3, 9]\n",
      "Weights: [14, 9, 16, 15, 20, 15]\n"
     ]
    }
   ],
   "source": [
    "import Random\n",
    "Random.seed!(2)\n",
    "\n",
    "n = 6\n",
    "values = rand(1:10, n)\n",
    "weights = rand(1:20, n)\n",
    "capacity = 50\n",
    "\n",
    "println(\"Values: \", values)\n",
    "println(\"Weights: \", weights)"
   ]
  },
  {
   "cell_type": "code",
   "execution_count": 175,
   "metadata": {},
   "outputs": [
    {
     "name": "stdout",
     "output_type": "stream",
     "text": [
      " 1. Gurobi\n",
      "Set parameter Username\n",
      "Academic license - for non-commercial use only - expires 2024-11-21\n",
      "Objective value of Gurobi: 26.0\n",
      "  0.003197 seconds (2.74 k allocations: 79.578 KiB)\n",
      "Index of Selected items: [3, 4, 6]\n",
      "\n",
      " 2. ExpandingCore\n",
      "Objective value of Expandingcore: 26\n",
      "  0.000048 seconds (81 allocations: 4.477 KiB)\n",
      "Index of Selected items: [3, 4, 6]\n",
      "\n",
      " 3. Bruteforce\n",
      "Objective value of Bruteforce: 26\n",
      "  0.000040 seconds (169 allocations: 9.961 KiB)\n",
      "Index of Selected items: [3, 4, 6]\n",
      "\n",
      " 4. Greedy\n",
      "Objective value of Greedy: 25\n",
      "  0.000124 seconds (167 allocations: 13.648 KiB)\n",
      "Index of Selected items: [2, 4, 6]\n"
     ]
    }
   ],
   "source": [
    "println(\" 1. Gurobi\")\n",
    "@time opt1, sol1 = kp_gurobi(values, weights, capacity)\n",
    "println(\"Index of Selected items: \", sol1)\n",
    "\n",
    "println(\"\\n 2. ExpandingCore\")\n",
    "@time opt2, sol2 = kp_expandingcore(values, weights, capacity)\n",
    "println(\"Index of Selected items: \", sol2)\n",
    "\n",
    "println(\"\\n 3. Bruteforce\")\n",
    "@time opt3, sol3 = kp_bruteforce(weights, values, capacity)\n",
    "println(\"Index of Selected items: \", sol3)\n",
    "\n",
    "println(\"\\n 4. Greedy\")\n",
    "@time opt4, sol4 = kp_greedy(weights, values, capacity)\n",
    "println(\"Index of Selected items: \", sort!(sol4))"
   ]
  },
  {
   "cell_type": "markdown",
   "metadata": {},
   "source": [
    "### n = 10"
   ]
  },
  {
   "cell_type": "code",
   "execution_count": 159,
   "metadata": {},
   "outputs": [
    {
     "data": {
      "text/plain": [
       "100"
      ]
     },
     "execution_count": 159,
     "metadata": {},
     "output_type": "execute_result"
    }
   ],
   "source": [
    "import Random\n",
    "Random.seed!(5)\n",
    "\n",
    "n = 10\n",
    "values = rand(1:100, n)\n",
    "weights = rand(1:100, n)\n",
    "capacity = 100"
   ]
  },
  {
   "cell_type": "code",
   "execution_count": 160,
   "metadata": {},
   "outputs": [
    {
     "name": "stdout",
     "output_type": "stream",
     "text": [
      " 1. Gurobi\n",
      "Set parameter Username\n",
      "Academic license - for non-commercial use only - expires 2024-11-21\n",
      "Objective value of Gurobi: 277.0\n",
      "  0.002352 seconds (2.90 k allocations: 89.281 KiB)\n",
      "Index of Selected items: [2, 6, 8, 10]\n",
      "\n",
      " 2. ExpandingCore\n",
      "Objective value of Expandingcore: 277\n",
      "  0.000057 seconds (143 allocations: 10.273 KiB)\n",
      "Index of Selected items: [2, 6, 8, 10]\n",
      "\n",
      " 3. Bruteforce\n",
      "Objective value of Bruteforce: 277\n",
      "  0.000132 seconds (2.10 k allocations: 148.602 KiB)\n",
      "Index of Selected items: [2, 6, 8, 10]\n",
      "\n",
      " 4. Greedy\n",
      "Objective value of Greedy: 267\n",
      "  0.000048 seconds (44 allocations: 1.352 KiB)\n",
      "Index of Selected items: [3, 6, 7, 8, 10]\n"
     ]
    }
   ],
   "source": [
    "println(\" 1. Gurobi\")\n",
    "@time opt1, sol1 = kp_gurobi(values, weights, capacity)\n",
    "println(\"Index of Selected items: \", sol1)\n",
    "\n",
    "println(\"\\n 2. ExpandingCore\")\n",
    "@time opt2, sol2 = kp_expandingcore(values, weights, capacity)\n",
    "println(\"Index of Selected items: \", sol2)\n",
    "\n",
    "println(\"\\n 3. Bruteforce\")\n",
    "@time opt3, sol3 = kp_bruteforce(weights, values, capacity)\n",
    "println(\"Index of Selected items: \", sol3)\n",
    "\n",
    "println(\"\\n 4. Greedy\")\n",
    "@time opt4, sol4 = kp_greedy(weights, values, capacity)\n",
    "println(\"Index of Selected items: \", sort!(sol4))"
   ]
  },
  {
   "cell_type": "code",
   "execution_count": 161,
   "metadata": {},
   "outputs": [
    {
     "data": {
      "text/plain": [
       "100"
      ]
     },
     "execution_count": 161,
     "metadata": {},
     "output_type": "execute_result"
    }
   ],
   "source": [
    "import Random\n",
    "Random.seed!(1234)\n",
    "\n",
    "n = 10\n",
    "values = rand(1:100, n)\n",
    "weights = rand(1:100, n)\n",
    "capacity = 100"
   ]
  },
  {
   "cell_type": "code",
   "execution_count": 162,
   "metadata": {},
   "outputs": [
    {
     "name": "stdout",
     "output_type": "stream",
     "text": [
      " 1. Gurobi\n",
      "Set parameter Username\n",
      "Academic license - for non-commercial use only - expires 2024-11-21\n",
      "Objective value of Gurobi: 192.0\n",
      "  0.002190 seconds (2.96 k allocations: 91.031 KiB)\n",
      "Index of Selected items: [3, 4, 8]\n",
      "\n",
      " 2. ExpandingCore\n",
      "Objective value of Expandingcore: 192\n",
      "  0.000058 seconds (108 allocations: 7.180 KiB)\n",
      "Index of Selected items: [3, 4, 8]\n",
      "\n",
      " 3. Bruteforce\n",
      "Objective value of Bruteforce: 192\n",
      "  0.000136 seconds (2.10 k allocations: 148.570 KiB)\n",
      "Index of Selected items: [3, 4, 8]\n",
      "\n",
      " 4. Greedy\n",
      "Objective value of Greedy: 192\n",
      "  0.000071 seconds (44 allocations: 1.320 KiB)\n",
      "Index of Selected items: [3, 4, 8]\n"
     ]
    }
   ],
   "source": [
    "println(\" 1. Gurobi\")\n",
    "@time opt1, sol1 = kp_gurobi(values, weights, capacity)\n",
    "println(\"Index of Selected items: \", sol1)\n",
    "\n",
    "println(\"\\n 2. ExpandingCore\")\n",
    "@time opt2, sol2 = kp_expandingcore(values, weights, capacity)\n",
    "println(\"Index of Selected items: \", sol2)\n",
    "\n",
    "println(\"\\n 3. Bruteforce\")\n",
    "@time opt3, sol3 = kp_bruteforce(weights, values, capacity)\n",
    "println(\"Index of Selected items: \", sol3)\n",
    "\n",
    "println(\"\\n 4. Greedy\")\n",
    "@time opt4, sol4 = kp_greedy(weights, values, capacity)\n",
    "println(\"Index of Selected items: \", sort!(sol4))"
   ]
  },
  {
   "cell_type": "markdown",
   "metadata": {},
   "source": [
    "### n = 20"
   ]
  },
  {
   "cell_type": "code",
   "execution_count": 163,
   "metadata": {},
   "outputs": [
    {
     "data": {
      "text/plain": [
       "200"
      ]
     },
     "execution_count": 163,
     "metadata": {},
     "output_type": "execute_result"
    }
   ],
   "source": [
    "import Random\n",
    "Random.seed!(1234)\n",
    "\n",
    "n = 20\n",
    "values = rand(1:100, n)\n",
    "weights = rand(1:100, n)\n",
    "capacity = 200"
   ]
  },
  {
   "cell_type": "code",
   "execution_count": 134,
   "metadata": {},
   "outputs": [
    {
     "name": "stdout",
     "output_type": "stream",
     "text": [
      " 1. Gurobi\n",
      "Set parameter Username\n",
      "Academic license - for non-commercial use only - expires 2024-11-21\n",
      "Objective value of Gurobi: 568.0\n",
      "  0.003446 seconds (3.04 k allocations: 99.656 KiB)\n",
      "Index of Selected items: [1, 4, 6, 7, 12, 17, 18, 20]\n",
      "\n",
      " 2. ExpandingCore\n",
      "Objective value of Expandingcore: 568\n",
      "  0.000132 seconds (296 allocations: 24.352 KiB)\n",
      "Index of Selected items: [1, 4, 6, 7, 12, 17, 18, 20]\n",
      "\n",
      " 3. Bruteforce\n",
      "Objective value of Bruteforce: 568\n",
      "  0.226046 seconds (2.88 M allocations: 395.434 MiB, 21.81% gc time)\n",
      "Index of Selected items: [1, 4, 6, 7, 12, 17, 18, 20]\n",
      "\n",
      " 4. Greedy\n",
      "Objective value of Greedy: 568\n",
      "  0.000047 seconds (49 allocations: 1.977 KiB)\n",
      "Index of Selected items: [1, 4, 6, 7, 12, 17, 18, 20]\n"
     ]
    }
   ],
   "source": [
    "println(\" 1. Gurobi\")\n",
    "@time opt1, sol1 = kp_gurobi(values, weights, capacity)\n",
    "println(\"Index of Selected items: \", sol1)\n",
    "\n",
    "println(\"\\n 2. ExpandingCore\")\n",
    "@time opt2, sol2 = kp_expandingcore(values, weights, capacity)\n",
    "println(\"Index of Selected items: \", sol2)\n",
    "\n",
    "println(\"\\n 3. Bruteforce\")\n",
    "@time opt3, sol3 = kp_bruteforce(weights, values, capacity)\n",
    "println(\"Index of Selected items: \", sol3)\n",
    "\n",
    "println(\"\\n 4. Greedy\")\n",
    "@time opt4, sol4 = kp_greedy(weights, values, capacity)\n",
    "println(\"Index of Selected items: \", sort!(sol4))"
   ]
  },
  {
   "cell_type": "code",
   "execution_count": 135,
   "metadata": {},
   "outputs": [
    {
     "data": {
      "text/plain": [
       "200"
      ]
     },
     "execution_count": 135,
     "metadata": {},
     "output_type": "execute_result"
    }
   ],
   "source": [
    "import Random\n",
    "Random.seed!(0)\n",
    "\n",
    "n = 20\n",
    "values = rand(1:100, n)\n",
    "weights = rand(1:100, n)\n",
    "capacity = 200"
   ]
  },
  {
   "cell_type": "code",
   "execution_count": 136,
   "metadata": {},
   "outputs": [
    {
     "name": "stdout",
     "output_type": "stream",
     "text": [
      " 1. Gurobi\n",
      "Set parameter Username\n",
      "Academic license - for non-commercial use only - expires 2024-11-21\n",
      "Objective value of Gurobi: 479.0\n",
      "  0.003549 seconds (3.04 k allocations: 99.953 KiB)\n",
      "Index of Selected items: [1, 3, 5, 12, 13, 14, 15, 16]\n",
      "\n",
      " 2. ExpandingCore\n",
      "Objective value of Expandingcore: 479\n",
      "  0.000048 seconds (143 allocations: 9.992 KiB)\n",
      "Index of Selected items: [1, 3, 5, 12, 13, 14, 15, 16]\n",
      "\n",
      " 3. Bruteforce\n",
      "Objective value of Bruteforce: 479\n",
      "  0.213490 seconds (2.88 M allocations: 395.434 MiB, 17.49% gc time)\n",
      "Index of Selected items: [1, 3, 5, 12, 13, 14, 15, 16]\n",
      "\n",
      " 4. Greedy\n",
      "Objective value of Greedy: 454\n",
      "  0.000054 seconds (45 allocations: 1.914 KiB)\n",
      "Index of Selected items: [1, 3, 4, 5, 12, 13, 15, 16]\n"
     ]
    }
   ],
   "source": [
    "println(\" 1. Gurobi\")\n",
    "@time opt1, sol1 = kp_gurobi(values, weights, capacity)\n",
    "println(\"Index of Selected items: \", sol1)\n",
    "\n",
    "println(\"\\n 2. ExpandingCore\")\n",
    "@time opt2, sol2 = kp_expandingcore(values, weights, capacity)\n",
    "println(\"Index of Selected items: \", sol2)\n",
    "\n",
    "println(\"\\n 3. Bruteforce\")\n",
    "@time opt3, sol3 = kp_bruteforce(weights, values, capacity)\n",
    "println(\"Index of Selected items: \", sol3)\n",
    "\n",
    "println(\"\\n 4. Greedy\")\n",
    "@time opt4, sol4 = kp_greedy(weights, values, capacity)\n",
    "println(\"Index of Selected items: \", sort!(sol4))"
   ]
  },
  {
   "cell_type": "markdown",
   "metadata": {},
   "source": [
    "### n = 25"
   ]
  },
  {
   "cell_type": "code",
   "execution_count": 137,
   "metadata": {},
   "outputs": [
    {
     "data": {
      "text/plain": [
       "250"
      ]
     },
     "execution_count": 137,
     "metadata": {},
     "output_type": "execute_result"
    }
   ],
   "source": [
    "import Random\n",
    "Random.seed!(1234)\n",
    "\n",
    "n = 25\n",
    "values = rand(1:100, n)\n",
    "weights = rand(1:100, n)\n",
    "capacity = 250"
   ]
  },
  {
   "cell_type": "code",
   "execution_count": 138,
   "metadata": {},
   "outputs": [
    {
     "name": "stdout",
     "output_type": "stream",
     "text": [
      " 1. Gurobi\n",
      "Set parameter Username\n",
      "Academic license - for non-commercial use only - expires 2024-11-21\n",
      "Objective value of Gurobi: 630.0\n",
      "  0.003596 seconds (3.16 k allocations: 104.922 KiB)\n",
      "Index of Selected items: [1, 2, 7, 8, 13, 15, 17, 19, 20, 22]\n",
      "\n",
      " 2. ExpandingCore\n",
      "Objective value of Expandingcore: 630\n",
      "  0.000057 seconds (182 allocations: 13.508 KiB)\n",
      "Index of Selected items: [1, 2, 7, 8, 13, 15, 17, 19, 20, 22]\n",
      "\n",
      " 3. Bruteforce\n",
      "Objective value of Bruteforce: 630\n",
      "  7.994399 seconds (98.86 M allocations: 14.434 GiB, 17.58% gc time)\n",
      "Index of Selected items: [1, 2, 7, 8, 13, 15, 17, 19, 20, 22]\n",
      "\n",
      " 4. Greedy\n",
      "Objective value of Greedy: 630\n",
      "  0.000061 seconds (50 allocations: 2.492 KiB)\n",
      "Index of Selected items: [1, 2, 7, 8, 13, 15, 17, 19, 20, 22]\n"
     ]
    }
   ],
   "source": [
    "println(\" 1. Gurobi\")\n",
    "@time opt1, sol1 = kp_gurobi(values, weights, capacity)\n",
    "println(\"Index of Selected items: \", sol1)\n",
    "\n",
    "println(\"\\n 2. ExpandingCore\")\n",
    "@time opt2, sol2 = kp_expandingcore(values, weights, capacity)\n",
    "println(\"Index of Selected items: \", sol2)\n",
    "\n",
    "println(\"\\n 3. Bruteforce\")\n",
    "@time opt3, sol3 = kp_bruteforce(weights, values, capacity)\n",
    "println(\"Index of Selected items: \", sol3)\n",
    "\n",
    "println(\"\\n 4. Greedy\")\n",
    "@time opt4, sol4 = kp_greedy(weights, values, capacity)\n",
    "println(\"Index of Selected items: \", sort!(sol4))"
   ]
  },
  {
   "cell_type": "markdown",
   "metadata": {},
   "source": [
    "### n = 30"
   ]
  },
  {
   "cell_type": "code",
   "execution_count": 139,
   "metadata": {},
   "outputs": [
    {
     "data": {
      "text/plain": [
       "300"
      ]
     },
     "execution_count": 139,
     "metadata": {},
     "output_type": "execute_result"
    }
   ],
   "source": [
    "import Random\n",
    "Random.seed!(1234)\n",
    "\n",
    "n = 30\n",
    "values = rand(1:100, n)\n",
    "weights = rand(1:100, n)\n",
    "capacity = 300"
   ]
  },
  {
   "cell_type": "code",
   "execution_count": 140,
   "metadata": {},
   "outputs": [
    {
     "name": "stdout",
     "output_type": "stream",
     "text": [
      " 1. Gurobi\n",
      "Set parameter Username\n",
      "Academic license - for non-commercial use only - expires 2024-11-21\n",
      "Objective value of Gurobi: 704.0\n",
      "  0.004363 seconds (3.28 k allocations: 109.234 KiB)\n",
      "Index of Selected items: [2, 3, 7, 8, 10, 12, 16, 17, 28, 30]\n",
      "\n",
      " 2. ExpandingCore\n",
      "Objective value of Expandingcore: 704\n",
      "  0.000051 seconds (257 allocations: 20.383 KiB)\n",
      "Index of Selected items: [2, 3, 7, 8, 10, 12, 16, 17, 28, 30]\n",
      "\n",
      " 3. Bruteforce\n",
      "Objective value of Bruteforce: 704\n",
      "277.427623 seconds (3.21 G allocations: 477.291 GiB, 16.87% gc time)\n",
      "Index of Selected items: [2, 3, 7, 8, 10, 12, 16, 17, 28, 30]\n",
      "\n",
      " 4. Greedy\n",
      "Objective value of Greedy: 704\n",
      "  0.000056 seconds (50 allocations: 2.586 KiB)\n",
      "Index of Selected items: [2, 3, 7, 8, 10, 12, 16, 17, 28, 30]\n"
     ]
    }
   ],
   "source": [
    "println(\" 1. Gurobi\")\n",
    "@time opt1, sol1 = kp_gurobi(values, weights, capacity)\n",
    "println(\"Index of Selected items: \", sol1)\n",
    "\n",
    "println(\"\\n 2. ExpandingCore\")\n",
    "@time opt2, sol2 = kp_expandingcore(values, weights, capacity)\n",
    "println(\"Index of Selected items: \", sol2)\n",
    "\n",
    "println(\"\\n 3. Bruteforce\")\n",
    "@time opt3, sol3 = kp_bruteforce(weights, values, capacity)\n",
    "println(\"Index of Selected items: \", sol3)\n",
    "\n",
    "println(\"\\n 4. Greedy\")\n",
    "@time opt4, sol4 = kp_greedy(weights, values, capacity)\n",
    "println(\"Index of Selected items: \", sort!(sol4))"
   ]
  }
 ],
 "metadata": {
  "kernelspec": {
   "display_name": "Julia 1.9.3",
   "language": "julia",
   "name": "julia-1.9"
  },
  "language_info": {
   "file_extension": ".jl",
   "mimetype": "application/julia",
   "name": "julia",
   "version": "1.9.3"
  }
 },
 "nbformat": 4,
 "nbformat_minor": 2
}
